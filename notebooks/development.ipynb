{
 "cells": [
  {
   "cell_type": "code",
   "execution_count": 42,
   "metadata": {},
   "outputs": [
    {
     "name": "stdout",
     "output_type": "stream",
     "text": [
      "The autoreload extension is already loaded. To reload it, use:\n",
      "  %reload_ext autoreload\n"
     ]
    }
   ],
   "source": [
    "import os\n",
    "import subprocess\n",
    "import dotenv\n",
    "from pathlib import Path\n",
    "\n",
    "# autoreload any .py scripts\n",
    "%load_ext autoreload\n",
    "%autoreload 2\n",
    "\n",
    "# set the project's root directory as the notebooks' working directory\n",
    "git_root = subprocess.run(\n",
    "    [\"git\", \"rev-parse\", \"--show-toplevel\"], capture_output=True, text=True\n",
    ").stdout.strip()\n",
    "\n",
    "os.chdir(git_root)\n",
    "\n",
    "env_path = Path(os.getcwd()).as_posix()"
   ]
  },
  {
   "cell_type": "markdown",
   "metadata": {},
   "source": [
    "## Example data"
   ]
  },
  {
   "cell_type": "code",
   "execution_count": 51,
   "metadata": {},
   "outputs": [
    {
     "ename": "ValidationError",
     "evalue": "1 validation error for ProjectInfo\naddress\n  Field required [type=missing, input_value={'name': 'Musterprojekt'}, input_type=dict]\n    For further information visit https://errors.pydantic.dev/2.10/v/missing",
     "output_type": "error",
     "traceback": [
      "\u001b[0;31m---------------------------------------------------------------------------\u001b[0m",
      "\u001b[0;31mValidationError\u001b[0m                           Traceback (most recent call last)",
      "Cell \u001b[0;32mIn[51], line 52\u001b[0m\n\u001b[1;32m      8\u001b[0m rows \u001b[38;5;241m=\u001b[39m [\n\u001b[1;32m      9\u001b[0m     \u001b[38;5;66;03m# a default row\u001b[39;00m\n\u001b[1;32m     10\u001b[0m     Row(\n\u001b[0;32m   (...)\u001b[0m\n\u001b[1;32m     35\u001b[0m     Row(),\n\u001b[1;32m     36\u001b[0m ]\n\u001b[1;32m     38\u001b[0m company_info \u001b[38;5;241m=\u001b[39m CompanyInfo(\n\u001b[1;32m     39\u001b[0m     name\u001b[38;5;241m=\u001b[39m\u001b[38;5;124m\"\u001b[39m\u001b[38;5;124mMustermann Ingenieurgesellschaft mbH\u001b[39m\u001b[38;5;124m\"\u001b[39m,\n\u001b[1;32m     40\u001b[0m     department\u001b[38;5;241m=\u001b[39m\u001b[38;5;124m\"\u001b[39m\u001b[38;5;124mNiederlassung Musterstadt\u001b[39m\u001b[38;5;124m\"\u001b[39m,\n\u001b[0;32m   (...)\u001b[0m\n\u001b[1;32m     49\u001b[0m     \u001b[38;5;66;03m# website=\"www.mycompany.com\"\u001b[39;00m\n\u001b[1;32m     50\u001b[0m )\n\u001b[0;32m---> 52\u001b[0m project_info \u001b[38;5;241m=\u001b[39m \u001b[43mProjectInfo\u001b[49m\u001b[43m(\u001b[49m\n\u001b[1;32m     53\u001b[0m \u001b[43m    \u001b[49m\u001b[43mname\u001b[49m\u001b[38;5;241;43m=\u001b[39;49m\u001b[38;5;124;43m\"\u001b[39;49m\u001b[38;5;124;43mMusterprojekt\u001b[39;49m\u001b[38;5;124;43m\"\u001b[39;49m\u001b[43m,\u001b[49m\n\u001b[1;32m     54\u001b[0m \u001b[43m    \u001b[49m\u001b[38;5;66;43;03m# number=\"123456\",\u001b[39;49;00m\n\u001b[1;32m     55\u001b[0m \u001b[43m    \u001b[49m\u001b[38;5;66;43;03m# email=\"projectsupersecret@example.com\",\u001b[39;49;00m\n\u001b[1;32m     56\u001b[0m \u001b[43m    \u001b[49m\u001b[38;5;66;43;03m# address=Address(\u001b[39;49;00m\n\u001b[1;32m     57\u001b[0m \u001b[43m    \u001b[49m\u001b[38;5;66;43;03m#     street=\"Musterstraße 123\",\u001b[39;49;00m\n\u001b[1;32m     58\u001b[0m \u001b[43m    \u001b[49m\u001b[38;5;66;43;03m#     postal_code=12345,\u001b[39;49;00m\n\u001b[1;32m     59\u001b[0m \u001b[43m    \u001b[49m\u001b[38;5;66;43;03m#     city=\"Musterstadt\"\u001b[39;49;00m\n\u001b[1;32m     60\u001b[0m \u001b[43m    \u001b[49m\u001b[38;5;66;43;03m# ),\u001b[39;49;00m\n\u001b[1;32m     61\u001b[0m \u001b[43m    \u001b[49m\u001b[38;5;66;43;03m# start_date=date(2024, 1, 1),\u001b[39;49;00m\n\u001b[1;32m     62\u001b[0m \u001b[43m    \u001b[49m\u001b[38;5;66;43;03m# end_date=date(2025, 1, 1),\u001b[39;49;00m\n\u001b[1;32m     63\u001b[0m \u001b[43m    \u001b[49m\u001b[38;5;66;43;03m# members=[\u001b[39;49;00m\n\u001b[1;32m     64\u001b[0m \u001b[43m    \u001b[49m\u001b[38;5;66;43;03m#     ProjectMember(\u001b[39;49;00m\n\u001b[1;32m     65\u001b[0m \u001b[43m    \u001b[49m\u001b[38;5;66;43;03m#         first_name=\"Maria\",\u001b[39;49;00m\n\u001b[1;32m     66\u001b[0m \u001b[43m    \u001b[49m\u001b[38;5;66;43;03m#         last_name=\"Musterfrau\",\u001b[39;49;00m\n\u001b[1;32m     67\u001b[0m \u001b[43m    \u001b[49m\u001b[38;5;66;43;03m#         role=\"Projektleiter\",\u001b[39;49;00m\n\u001b[1;32m     68\u001b[0m \u001b[43m    \u001b[49m\u001b[38;5;66;43;03m#         company=\"Mustermann Ingenieurgesellschaft mbH\"\u001b[39;49;00m\n\u001b[1;32m     69\u001b[0m \u001b[43m    \u001b[49m\u001b[38;5;66;43;03m#     ),\u001b[39;49;00m\n\u001b[1;32m     70\u001b[0m \u001b[43m    \u001b[49m\u001b[38;5;66;43;03m#     ProjectMember(\u001b[39;49;00m\n\u001b[1;32m     71\u001b[0m \u001b[43m    \u001b[49m\u001b[38;5;66;43;03m#         first_name=\"Max\",\u001b[39;49;00m\n\u001b[1;32m     72\u001b[0m \u001b[43m    \u001b[49m\u001b[38;5;66;43;03m#         last_name=\"Mustermann\",\u001b[39;49;00m\n\u001b[1;32m     73\u001b[0m \u001b[43m    \u001b[49m\u001b[38;5;66;43;03m#         company=\"Mustermann Ingenieurgesellschaft mbH\"\u001b[39;49;00m\n\u001b[1;32m     74\u001b[0m \u001b[43m    \u001b[49m\u001b[38;5;66;43;03m#     )\u001b[39;49;00m\n\u001b[1;32m     75\u001b[0m \u001b[43m    \u001b[49m\u001b[38;5;66;43;03m# ]\u001b[39;49;00m\n\u001b[1;32m     76\u001b[0m \u001b[43m)\u001b[49m\n\u001b[1;32m     78\u001b[0m report_info \u001b[38;5;241m=\u001b[39m ReportInfo(\n\u001b[1;32m     79\u001b[0m     title\u001b[38;5;241m=\u001b[39m\u001b[38;5;124m\"\u001b[39m\u001b[38;5;124mBaubegehung\u001b[39m\u001b[38;5;124m\"\u001b[39m,\n\u001b[1;32m     80\u001b[0m     date\u001b[38;5;241m=\u001b[39mdate(\u001b[38;5;241m2024\u001b[39m, \u001b[38;5;241m1\u001b[39m, \u001b[38;5;241m1\u001b[39m),\n\u001b[0;32m   (...)\u001b[0m\n\u001b[1;32m     84\u001b[0m     description\u001b[38;5;241m=\u001b[39m\u001b[38;5;124m\"\u001b[39m\u001b[38;5;124mBaubesprechung. Vor Ort: 1x Polierer, 5x Facharbeiter\u001b[39m\u001b[38;5;124m\"\u001b[39m,\n\u001b[1;32m     85\u001b[0m )\n\u001b[1;32m     88\u001b[0m header_html \u001b[38;5;241m=\u001b[39m \u001b[38;5;124m\"\u001b[39m\u001b[38;5;124m\"\u001b[39m\n",
      "File \u001b[0;32m~/code/browser-automation/ytinsights/backend/.venv/lib/python3.12/site-packages/pydantic/main.py:214\u001b[0m, in \u001b[0;36mBaseModel.__init__\u001b[0;34m(self, **data)\u001b[0m\n\u001b[1;32m    212\u001b[0m \u001b[38;5;66;03m# `__tracebackhide__` tells pytest and some other tools to omit this function from tracebacks\u001b[39;00m\n\u001b[1;32m    213\u001b[0m __tracebackhide__ \u001b[38;5;241m=\u001b[39m \u001b[38;5;28;01mTrue\u001b[39;00m\n\u001b[0;32m--> 214\u001b[0m validated_self \u001b[38;5;241m=\u001b[39m \u001b[38;5;28;43mself\u001b[39;49m\u001b[38;5;241;43m.\u001b[39;49m\u001b[43m__pydantic_validator__\u001b[49m\u001b[38;5;241;43m.\u001b[39;49m\u001b[43mvalidate_python\u001b[49m\u001b[43m(\u001b[49m\u001b[43mdata\u001b[49m\u001b[43m,\u001b[49m\u001b[43m \u001b[49m\u001b[43mself_instance\u001b[49m\u001b[38;5;241;43m=\u001b[39;49m\u001b[38;5;28;43mself\u001b[39;49m\u001b[43m)\u001b[49m\n\u001b[1;32m    215\u001b[0m \u001b[38;5;28;01mif\u001b[39;00m \u001b[38;5;28mself\u001b[39m \u001b[38;5;129;01mis\u001b[39;00m \u001b[38;5;129;01mnot\u001b[39;00m validated_self:\n\u001b[1;32m    216\u001b[0m     warnings\u001b[38;5;241m.\u001b[39mwarn(\n\u001b[1;32m    217\u001b[0m         \u001b[38;5;124m'\u001b[39m\u001b[38;5;124mA custom validator is returning a value other than `self`.\u001b[39m\u001b[38;5;130;01m\\n\u001b[39;00m\u001b[38;5;124m'\u001b[39m\n\u001b[1;32m    218\u001b[0m         \u001b[38;5;124m\"\u001b[39m\u001b[38;5;124mReturning anything other than `self` from a top level model validator isn\u001b[39m\u001b[38;5;124m'\u001b[39m\u001b[38;5;124mt supported when validating via `__init__`.\u001b[39m\u001b[38;5;130;01m\\n\u001b[39;00m\u001b[38;5;124m\"\u001b[39m\n\u001b[1;32m    219\u001b[0m         \u001b[38;5;124m'\u001b[39m\u001b[38;5;124mSee the `model_validator` docs (https://docs.pydantic.dev/latest/concepts/validators/#model-validators) for more details.\u001b[39m\u001b[38;5;124m'\u001b[39m,\n\u001b[1;32m    220\u001b[0m         stacklevel\u001b[38;5;241m=\u001b[39m\u001b[38;5;241m2\u001b[39m,\n\u001b[1;32m    221\u001b[0m     )\n",
      "\u001b[0;31mValidationError\u001b[0m: 1 validation error for ProjectInfo\naddress\n  Field required [type=missing, input_value={'name': 'Musterprojekt'}, input_type=dict]\n    For further information visit https://errors.pydantic.dev/2.10/v/missing"
     ]
    }
   ],
   "source": [
    "from src.reports import Row\n",
    "from src.reports import Address, ProjectInfo, ProjectMember, ReportInfo, RowHeaders, create_report, CompanyInfo\n",
    "from weasyprint import HTML, CSS\n",
    "from jinja2 import Environment, FileSystemLoader\n",
    "from datetime import date, datetime, time\n",
    "\n",
    "\n",
    "rows = [\n",
    "    # a default row\n",
    "    Row(\n",
    "        images=[\n",
    "            Path(\"examples\", \"example-image-01.jpg\"),\n",
    "        ],\n",
    "        text_content=\"Lorem ipsum dolor sit amet, consetetur sadipscing elitr, sed diam nonumy eirmod tempor invidunt ut labore et dolore magna aliquyam erat, sed diam voluptua. At vero eos et accusam et justo duo dolores et ea rebum. Stet clita kasd gubergren, no sea takimata sanctus est Lorem ipsum dolor sit amet. Lorem ipsum dolor sit amet, consetetur sadipscing elitr, sed diam nonumy eirmod tempor invidunt ut labore et dolore magna aliquyam erat, sed diam voluptua. At vero eos et accusam et justo duo dolores et ea rebum. Stet clita kasd gubergren, no sea takimata sanctus est Lorem ipsum dolor sit amet.\",\n",
    "        assignee=\"Lorem ipsum dolor sit\",\n",
    "        due_date=\"Today\"\n",
    "    ),\n",
    "    # row with two images\n",
    "    Row(\n",
    "        images=[\n",
    "            Path(\"examples\", \"example-image-01.jpg\"),\n",
    "            Path(\"examples\", \"example-image-02.jpg\"),\n",
    "        ],\n",
    "        text_content=\"Lorem ipsum dolor sit amet, consetetur sadipscing elitr, sed diam nonumy eirmod tempor invidunt ut labore et dolore magna aliquyam\",\n",
    "        assignee=\"Lorem ipsum dolor sit\",\n",
    "        due_date=\"Today\"\n",
    "    ),\n",
    "    # row without description, assignee, due date\n",
    "    Row(\n",
    "        images=[\n",
    "            Path(\"examples\", \"example-image-02.jpg\"),\n",
    "        ],\n",
    "    ),\n",
    "    # tests empty row\n",
    "    Row(),\n",
    "]\n",
    "\n",
    "company_info = CompanyInfo(\n",
    "    name=\"Mustermann Ingenieurgesellschaft mbH\",\n",
    "    department=\"Niederlassung Musterstadt\",\n",
    "    address=Address(\n",
    "        street=\"Musterstraße 123\",\n",
    "        postal_code=12345,\n",
    "        city=\"Musterstadt\"\n",
    "    ),\n",
    "    logo=Path(\"examples\", \"example-logo.svg\"),\n",
    "    phone=\"+49 211 3611370\",\n",
    "    email=\"company@example.com\",\n",
    "    website=\"www.mycompany.com\"\n",
    ")\n",
    "\n",
    "project_info = ProjectInfo(\n",
    "    name=\"Musterprojekt\",\n",
    "    number=\"123456\",\n",
    "    email=\"optional@project-email.com\",\n",
    "    address=Address(\n",
    "        street=\"Musterstraße 123\",\n",
    "        postal_code=12345,\n",
    "        city=\"Musterstadt\"\n",
    "    ),\n",
    "    start_date=date(2024, 1, 1),\n",
    "    end_date=date(2025, 1, 1),\n",
    "    members=[\n",
    "        ProjectMember(\n",
    "            first_name=\"Maria\",\n",
    "            last_name=\"Musterfrau\",\n",
    "            role=\"Projektleiter\",\n",
    "            company=\"Mustermann Ingenieurgesellschaft mbH\"\n",
    "        ),\n",
    "        ProjectMember(\n",
    "            first_name=\"Max\",\n",
    "            last_name=\"Mustermann\",\n",
    "            company=\"Mustermann Ingenieurgesellschaft mbH\"\n",
    "        )\n",
    "    ]\n",
    ")\n",
    "\n",
    "report_info = ReportInfo(\n",
    "    title=\"Baubegehung\",\n",
    "    date=date(2024, 1, 1),\n",
    "    start_time=time(10, 0),\n",
    "    end_time=time(12, 0),\n",
    "    weather=\"Sonnig, ca. 10°C, Luftfeuchtigkeit 80%\",\n",
    "    description=\"Baubesprechung. Vor Ort: 1x Polierer, 5x Facharbeiter\",\n",
    ")\n",
    "\n",
    "\n",
    "header_html = \"\"\n",
    "footer_html = \"\"\n",
    "\n",
    "create_report(\n",
    "    env_path,\n",
    "    rows,\n",
    "    company_info,\n",
    "    project_info,\n",
    "    report_info,\n",
    ")"
   ]
  },
  {
   "cell_type": "code",
   "execution_count": null,
   "metadata": {},
   "outputs": [],
   "source": []
  }
 ],
 "metadata": {
  "kernelspec": {
   "display_name": ".venv",
   "language": "python",
   "name": "python3"
  },
  "language_info": {
   "codemirror_mode": {
    "name": "ipython",
    "version": 3
   },
   "file_extension": ".py",
   "mimetype": "text/x-python",
   "name": "python",
   "nbconvert_exporter": "python",
   "pygments_lexer": "ipython3",
   "version": "3.12.6"
  }
 },
 "nbformat": 4,
 "nbformat_minor": 2
}
